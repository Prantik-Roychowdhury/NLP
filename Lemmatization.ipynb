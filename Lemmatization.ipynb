{
 "cells": [
  {
   "cell_type": "code",
   "execution_count": 1,
   "id": "30049ad6-71c8-4bf8-965e-c2022f4c600e",
   "metadata": {},
   "outputs": [
    {
     "name": "stderr",
     "output_type": "stream",
     "text": [
      "[nltk_data] Downloading package wordnet to\n",
      "[nltk_data]     C:\\Users\\DELL\\AppData\\Roaming\\nltk_data...\n"
     ]
    },
    {
     "data": {
      "text/plain": [
       "True"
      ]
     },
     "execution_count": 1,
     "metadata": {},
     "output_type": "execute_result"
    }
   ],
   "source": [
    "import nltk\n",
    "nltk.download('wordnet')"
   ]
  },
  {
   "cell_type": "markdown",
   "id": "46f54551-2b19-4fae-a08a-ba77511d6a17",
   "metadata": {},
   "source": [
    "Just a heads up, some of the lemmatizer classes require you to download them specifically and then download it. I got an error earlier while using the WordNet Lemmatizer class. Just a heads up"
   ]
  },
  {
   "cell_type": "code",
   "execution_count": 4,
   "id": "537e08ea-d04d-4830-bbe5-564d85502b97",
   "metadata": {},
   "outputs": [],
   "source": [
    "from nltk.stem import WordNetLemmatizer"
   ]
  },
  {
   "cell_type": "code",
   "execution_count": 6,
   "id": "808e7d36-9e26-4625-bbb6-06e6ebcec939",
   "metadata": {},
   "outputs": [],
   "source": [
    "wn = WordNetLemmatizer()"
   ]
  },
  {
   "cell_type": "code",
   "execution_count": 12,
   "id": "44021a5c-2114-4cb2-9d60-bdf29aafae68",
   "metadata": {},
   "outputs": [
    {
     "data": {
      "text/plain": [
       "'going'"
      ]
     },
     "execution_count": 12,
     "metadata": {},
     "output_type": "execute_result"
    }
   ],
   "source": [
    "wn.lemmatize(\"going\")\n",
    "# This function takes in a parameter named POS which is short for Parts of Speech\n",
    "# POS - Noun -n\n",
    "# POS - Verb -v\n",
    "# POS - Adjective -a\n",
    "# POS - Adverb -r\n",
    "# The default POS tag for the function is -n or Noun"
   ]
  },
  {
   "cell_type": "code",
   "execution_count": 16,
   "id": "989eba66-f1d4-4aae-8828-95a2ef8ab400",
   "metadata": {},
   "outputs": [
    {
     "data": {
      "text/plain": [
       "'go'"
      ]
     },
     "execution_count": 16,
     "metadata": {},
     "output_type": "execute_result"
    }
   ],
   "source": [
    "wn.lemmatize(\"going\", pos = 'v')"
   ]
  },
  {
   "cell_type": "code",
   "execution_count": 18,
   "id": "8df8f9cc-7ee3-4877-a820-efaae4cb2d77",
   "metadata": {},
   "outputs": [],
   "source": [
    " words = [\"eating\", \"eats\", \"eaten\", \"writing\", \"writes\", \"programming\", \"programs\", \"history\",\"finally\", \"finalize\"]"
   ]
  },
  {
   "cell_type": "code",
   "execution_count": 20,
   "id": "76afd80d-a843-480d-90bd-feea1399d0d5",
   "metadata": {},
   "outputs": [
    {
     "name": "stdout",
     "output_type": "stream",
     "text": [
      "eating ---> eating\n",
      "eats ---> eats\n",
      "eaten ---> eaten\n",
      "writing ---> writing\n",
      "writes ---> writes\n",
      "programming ---> programming\n",
      "programs ---> program\n",
      "history ---> history\n",
      "finally ---> finally\n",
      "finalize ---> finalize\n"
     ]
    }
   ],
   "source": [
    "for word in words:\n",
    "    print(word + \" ---> \" + wn.lemmatize(word))"
   ]
  },
  {
   "cell_type": "code",
   "execution_count": 24,
   "id": "4b8f5472-e840-4cc0-a724-8bc7240507f7",
   "metadata": {},
   "outputs": [
    {
     "name": "stdout",
     "output_type": "stream",
     "text": [
      "eating ---> eat\n",
      "eats ---> eat\n",
      "eaten ---> eat\n",
      "writing ---> write\n",
      "writes ---> write\n",
      "programming ---> program\n",
      "programs ---> program\n",
      "history ---> history\n",
      "finally ---> finally\n",
      "finalize ---> finalize\n"
     ]
    }
   ],
   "source": [
    "for word in words:\n",
    "    print(word + \" ---> \" + wn.lemmatize(word,pos='v'))"
   ]
  },
  {
   "cell_type": "code",
   "execution_count": 28,
   "id": "6ac60ccb-59db-4289-97fe-8e18e38b9303",
   "metadata": {},
   "outputs": [
    {
     "data": {
      "text/plain": [
       "'go'"
      ]
     },
     "execution_count": 28,
     "metadata": {},
     "output_type": "execute_result"
    }
   ],
   "source": [
    "wn.lemmatize(\"goes\")"
   ]
  },
  {
   "cell_type": "code",
   "execution_count": 38,
   "id": "804127c4-0b64-46e0-9caf-459ed2b58713",
   "metadata": {},
   "outputs": [
    {
     "data": {
      "text/plain": [
       "'fairly'"
      ]
     },
     "execution_count": 38,
     "metadata": {},
     "output_type": "execute_result"
    }
   ],
   "source": [
    "wn.lemmatize(\"fairly\", pos = 'a')"
   ]
  },
  {
   "cell_type": "markdown",
   "id": "4b2a91f4-26a2-4b7c-82d0-909dbf6b8ad2",
   "metadata": {},
   "source": [
    "Lemmatization is a good technique for Q&A bots, text summarization chatbots"
   ]
  },
  {
   "cell_type": "code",
   "execution_count": null,
   "id": "d41089ff-6150-42a6-997c-9709afdfc3c3",
   "metadata": {},
   "outputs": [],
   "source": []
  }
 ],
 "metadata": {
  "kernelspec": {
   "display_name": "Python 3 (ipykernel)",
   "language": "python",
   "name": "python3"
  },
  "language_info": {
   "codemirror_mode": {
    "name": "ipython",
    "version": 3
   },
   "file_extension": ".py",
   "mimetype": "text/x-python",
   "name": "python",
   "nbconvert_exporter": "python",
   "pygments_lexer": "ipython3",
   "version": "3.12.4"
  }
 },
 "nbformat": 4,
 "nbformat_minor": 5
}
